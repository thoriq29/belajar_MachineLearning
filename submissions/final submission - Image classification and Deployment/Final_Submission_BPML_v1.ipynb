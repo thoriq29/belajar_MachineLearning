{
  "nbformat": 4,
  "nbformat_minor": 0,
  "metadata": {
    "colab": {
      "name": "Final Submission BPML_v1.ipynb",
      "provenance": []
    },
    "kernelspec": {
      "name": "python3",
      "display_name": "Python 3"
    }
  },
  "cells": [
    {
      "cell_type": "code",
      "metadata": {
        "id": "YHlA43kDY2iV",
        "colab_type": "code",
        "colab": {
          "base_uri": "https://localhost:8080/",
          "height": 228
        },
        "outputId": "e1519ae7-0172-4308-93c8-817ba2dd92a1"
      },
      "source": [
        "!wget 'https://storage.googleapis.com/writehere-13.appspot.com/mask_dataset.zip' -O /content/mask_dataset.zip"
      ],
      "execution_count": 1,
      "outputs": [
        {
          "output_type": "stream",
          "text": [
            "--2020-08-25 14:52:07--  https://storage.googleapis.com/writehere-13.appspot.com/mask_dataset.zip\n",
            "Resolving storage.googleapis.com (storage.googleapis.com)... 172.217.218.128, 74.125.143.128, 108.177.119.128, ...\n",
            "Connecting to storage.googleapis.com (storage.googleapis.com)|172.217.218.128|:443... connected.\n",
            "HTTP request sent, awaiting response... 200 OK\n",
            "Length: 633971036 (605M) [application/zip]\n",
            "Saving to: ‘/content/mask_dataset.zip’\n",
            "\n",
            "/content/mask_datas 100%[===================>] 604.60M  56.0MB/s    in 14s     \n",
            "\n",
            "2020-08-25 14:52:21 (44.6 MB/s) - ‘/content/mask_dataset.zip’ saved [633971036/633971036]\n",
            "\n"
          ],
          "name": "stdout"
        }
      ]
    },
    {
      "cell_type": "code",
      "metadata": {
        "id": "-FkDDNzdkWxk",
        "colab_type": "code",
        "colab": {}
      },
      "source": [
        "import zipfile,os\n",
        "local_zip = 'mask_dataset.zip'\n",
        "zip_ref = zipfile.ZipFile(local_zip, 'r')\n",
        "zip_ref.extractall('/content/dataset')\n",
        "zip_ref.close()"
      ],
      "execution_count": 2,
      "outputs": []
    },
    {
      "cell_type": "code",
      "metadata": {
        "id": "i5o70_zHk012",
        "colab_type": "code",
        "colab": {
          "base_uri": "https://localhost:8080/",
          "height": 141
        },
        "outputId": "42849fcc-5c36-4cde-9e8b-0fcf36594839"
      },
      "source": [
        "!pip install split-folders\n",
        "!pip install split-folders tqdm"
      ],
      "execution_count": 3,
      "outputs": [
        {
          "output_type": "stream",
          "text": [
            "Collecting split-folders\n",
            "  Downloading https://files.pythonhosted.org/packages/d1/4b/7b282b0f9319189d71e803220748929b37d019b67b1782d14c59cb1bd940/split_folders-0.4.2-py3-none-any.whl\n",
            "Installing collected packages: split-folders\n",
            "Successfully installed split-folders-0.4.2\n",
            "Requirement already satisfied: split-folders in /usr/local/lib/python3.6/dist-packages (0.4.2)\n",
            "Requirement already satisfied: tqdm in /usr/local/lib/python3.6/dist-packages (4.41.1)\n"
          ],
          "name": "stdout"
        }
      ]
    },
    {
      "cell_type": "code",
      "metadata": {
        "id": "vPMLrifPlSn2",
        "colab_type": "code",
        "colab": {
          "base_uri": "https://localhost:8080/",
          "height": 34
        },
        "outputId": "84a175d7-37fb-4a5a-f14a-d71849f036ff"
      },
      "source": [
        "import splitfolders\n",
        "splitfolders.ratio('/content/dataset/', output=\"/content/project_data\", ratio=(.8, .2))"
      ],
      "execution_count": 4,
      "outputs": [
        {
          "output_type": "stream",
          "text": [
            "Copying files: 20000 files [00:04, 4382.97 files/s]\n"
          ],
          "name": "stderr"
        }
      ]
    },
    {
      "cell_type": "code",
      "metadata": {
        "id": "w7F4hwyZl2yI",
        "colab_type": "code",
        "colab": {}
      },
      "source": [
        "base_dir = '/content/project_data/'\n",
        "train_dir = os.path.join(base_dir, 'train')\n",
        "validation_dir = os.path.join(base_dir, 'val')"
      ],
      "execution_count": 9,
      "outputs": []
    },
    {
      "cell_type": "code",
      "metadata": {
        "id": "iuw7x8BZm1ma",
        "colab_type": "code",
        "colab": {}
      },
      "source": [
        "def read_list(directory):\n",
        "  list_tag = []\n",
        "  list_file = []\n",
        "  for label in os.listdir(directory):\n",
        "    for item in os.listdir(os.path.join(directory, label)):\n",
        "      list_tag.append(label)\n",
        "      list_file.append(os.path.join(directory, label, item))\n",
        "  return pd.DataFrame({'tags': list_tag, 'filepath':list_file})"
      ],
      "execution_count": 7,
      "outputs": []
    },
    {
      "cell_type": "code",
      "metadata": {
        "id": "aXaFb4bAoiUh",
        "colab_type": "code",
        "colab": {
          "base_uri": "https://localhost:8080/",
          "height": 34
        },
        "outputId": "11c2cb9a-accd-4edb-c02e-ddaf9e8dde5b"
      },
      "source": [
        "os.listdir(train_dir)"
      ],
      "execution_count": 12,
      "outputs": [
        {
          "output_type": "execute_result",
          "data": {
            "text/plain": [
              "['new_with_mask', 'new_without_mask']"
            ]
          },
          "metadata": {
            "tags": []
          },
          "execution_count": 12
        }
      ]
    },
    {
      "cell_type": "code",
      "metadata": {
        "id": "2EDtkdAKopV5",
        "colab_type": "code",
        "colab": {
          "base_uri": "https://localhost:8080/",
          "height": 479
        },
        "outputId": "97a8dbe8-70e5-420c-cc5a-10c59ca377f1"
      },
      "source": [
        "import pandas as pd\n",
        "import matplotlib.pyplot as plt\n",
        "import tensorflow as tf\n",
        "\n",
        "from keras.preprocessing.image import ImageDataGenerator\n",
        "from keras.layers import Conv2D, MaxPooling2D, Dense, Flatten, Dropout, BatchNormalization, GlobalAveragePooling2D,Lambda,ZeroPadding2D\n",
        "from keras.models import Sequential\n",
        "from keras.preprocessing import image\n",
        "from tensorflow.keras.optimizers import RMSprop\n",
        "\n",
        "train_df = read_list(train_dir)\n",
        "validation_df = read_list(validation_dir)\n",
        "\n",
        "pd.set_option('display.max_colwidth', -1)\n",
        "validation_df"
      ],
      "execution_count": 13,
      "outputs": [
        {
          "output_type": "stream",
          "text": [
            "/usr/local/lib/python3.6/dist-packages/ipykernel_launcher.py:14: FutureWarning: Passing a negative integer is deprecated in version 1.0 and will not be supported in future version. Instead, use None to not limit the column width.\n",
            "  \n"
          ],
          "name": "stderr"
        },
        {
          "output_type": "execute_result",
          "data": {
            "text/html": [
              "<div>\n",
              "<style scoped>\n",
              "    .dataframe tbody tr th:only-of-type {\n",
              "        vertical-align: middle;\n",
              "    }\n",
              "\n",
              "    .dataframe tbody tr th {\n",
              "        vertical-align: top;\n",
              "    }\n",
              "\n",
              "    .dataframe thead th {\n",
              "        text-align: right;\n",
              "    }\n",
              "</style>\n",
              "<table border=\"1\" class=\"dataframe\">\n",
              "  <thead>\n",
              "    <tr style=\"text-align: right;\">\n",
              "      <th></th>\n",
              "      <th>tags</th>\n",
              "      <th>filepath</th>\n",
              "    </tr>\n",
              "  </thead>\n",
              "  <tbody>\n",
              "    <tr>\n",
              "      <th>0</th>\n",
              "      <td>new_with_mask</td>\n",
              "      <td>/content/project_data/val/new_with_mask/with-mask-default-mask-seed5418.png</td>\n",
              "    </tr>\n",
              "    <tr>\n",
              "      <th>1</th>\n",
              "      <td>new_with_mask</td>\n",
              "      <td>/content/project_data/val/new_with_mask/with-mask-default-mask-seed9371.png</td>\n",
              "    </tr>\n",
              "    <tr>\n",
              "      <th>2</th>\n",
              "      <td>new_with_mask</td>\n",
              "      <td>/content/project_data/val/new_with_mask/with-mask-default-mask-seed8875.png</td>\n",
              "    </tr>\n",
              "    <tr>\n",
              "      <th>3</th>\n",
              "      <td>new_with_mask</td>\n",
              "      <td>/content/project_data/val/new_with_mask/with-mask-default-mask-seed8369.png</td>\n",
              "    </tr>\n",
              "    <tr>\n",
              "      <th>4</th>\n",
              "      <td>new_with_mask</td>\n",
              "      <td>/content/project_data/val/new_with_mask/with-mask-default-mask-seed2595.png</td>\n",
              "    </tr>\n",
              "    <tr>\n",
              "      <th>...</th>\n",
              "      <td>...</td>\n",
              "      <td>...</td>\n",
              "    </tr>\n",
              "    <tr>\n",
              "      <th>3995</th>\n",
              "      <td>new_without_mask</td>\n",
              "      <td>/content/project_data/val/new_without_mask/seed6180.png</td>\n",
              "    </tr>\n",
              "    <tr>\n",
              "      <th>3996</th>\n",
              "      <td>new_without_mask</td>\n",
              "      <td>/content/project_data/val/new_without_mask/seed0115.png</td>\n",
              "    </tr>\n",
              "    <tr>\n",
              "      <th>3997</th>\n",
              "      <td>new_without_mask</td>\n",
              "      <td>/content/project_data/val/new_without_mask/seed1475.png</td>\n",
              "    </tr>\n",
              "    <tr>\n",
              "      <th>3998</th>\n",
              "      <td>new_without_mask</td>\n",
              "      <td>/content/project_data/val/new_without_mask/seed9520.png</td>\n",
              "    </tr>\n",
              "    <tr>\n",
              "      <th>3999</th>\n",
              "      <td>new_without_mask</td>\n",
              "      <td>/content/project_data/val/new_without_mask/seed5285.png</td>\n",
              "    </tr>\n",
              "  </tbody>\n",
              "</table>\n",
              "<p>4000 rows × 2 columns</p>\n",
              "</div>"
            ],
            "text/plain": [
              "                  tags                                                                     filepath\n",
              "0     new_with_mask     /content/project_data/val/new_with_mask/with-mask-default-mask-seed5418.png\n",
              "1     new_with_mask     /content/project_data/val/new_with_mask/with-mask-default-mask-seed9371.png\n",
              "2     new_with_mask     /content/project_data/val/new_with_mask/with-mask-default-mask-seed8875.png\n",
              "3     new_with_mask     /content/project_data/val/new_with_mask/with-mask-default-mask-seed8369.png\n",
              "4     new_with_mask     /content/project_data/val/new_with_mask/with-mask-default-mask-seed2595.png\n",
              "...             ...                                                                             ...\n",
              "3995  new_without_mask  /content/project_data/val/new_without_mask/seed6180.png                    \n",
              "3996  new_without_mask  /content/project_data/val/new_without_mask/seed0115.png                    \n",
              "3997  new_without_mask  /content/project_data/val/new_without_mask/seed1475.png                    \n",
              "3998  new_without_mask  /content/project_data/val/new_without_mask/seed9520.png                    \n",
              "3999  new_without_mask  /content/project_data/val/new_without_mask/seed5285.png                    \n",
              "\n",
              "[4000 rows x 2 columns]"
            ]
          },
          "metadata": {
            "tags": []
          },
          "execution_count": 13
        }
      ]
    },
    {
      "cell_type": "code",
      "metadata": {
        "id": "nAu7_3MrosXo",
        "colab_type": "code",
        "colab": {
          "base_uri": "https://localhost:8080/",
          "height": 69
        },
        "outputId": "74848cee-193d-4f30-82db-e31103635c89"
      },
      "source": [
        "data_train_img_gen = ImageDataGenerator(\n",
        "    rotation_range=20,\n",
        "    rescale=1./255,\n",
        "    shear_range=0.2,\n",
        "    zoom_range=0.2,\n",
        "    horizontal_flip=True,\n",
        "    fill_mode='nearest'\n",
        "  )\n",
        "\n",
        "data_val_img_gen = ImageDataGenerator(\n",
        "    rotation_range=20,\n",
        "    rescale=1./255,\n",
        "    shear_range=0.2,\n",
        "    zoom_range=0.2,\n",
        "    horizontal_flip=True,\n",
        "    fill_mode='nearest'\n",
        "  )\n",
        "\n",
        "train_generator = data_train_img_gen.flow_from_dataframe(\n",
        "    train_df,\n",
        "    class_mode='categorical',\n",
        "    x_col='filepath',\n",
        "    y_col='tags',\n",
        "    target_size=(150,150),\n",
        "    batch_size=4\n",
        ")\n",
        "\n",
        "val_generator = data_val_img_gen.flow_from_dataframe(\n",
        "    validation_df,\n",
        "    class_mode='categorical',\n",
        "    x_col='filepath',\n",
        "    y_col='tags',\n",
        "    target_size=(150,150),\n",
        "    batch_size=4\n",
        ")\n",
        "print(train_generator.class_indices)"
      ],
      "execution_count": 14,
      "outputs": [
        {
          "output_type": "stream",
          "text": [
            "Found 16000 validated image filenames belonging to 2 classes.\n",
            "Found 4000 validated image filenames belonging to 2 classes.\n",
            "{'new_with_mask': 0, 'new_without_mask': 1}\n"
          ],
          "name": "stdout"
        }
      ]
    },
    {
      "cell_type": "code",
      "metadata": {
        "id": "Iyx1OEtRm2tm",
        "colab_type": "code",
        "colab": {}
      },
      "source": [
        "class modelCallback(tf.keras.callbacks.Callback):\n",
        "  def on_epoch_end(self, epoch, logs={}):\n",
        "    if(logs.get('accuracy')>0.97 and logs.get('val_accuracy') > 0.97):\n",
        "      print(\"\\nReached 97.8% accuracy so cancelling training!\")\n",
        "      self.model.stop_training = True"
      ],
      "execution_count": 21,
      "outputs": []
    },
    {
      "cell_type": "code",
      "metadata": {
        "id": "LwP2IhN8nIRC",
        "colab_type": "code",
        "colab": {
          "base_uri": "https://localhost:8080/",
          "height": 141
        },
        "outputId": "89c80a87-a809-43e6-c2ec-ba56c2ffff5b"
      },
      "source": [
        "callbacks = modelCallback()\n",
        "model = Sequential()\n",
        "\n",
        "model.add(Conv2D(32, (5,5), activation='relu', strides=(1,1), padding='valid', input_shape=(150, 150, 3)))\n",
        "model.add(MaxPooling2D(2, 2))\n",
        "model.add(MaxPooling2D(2,2))\n",
        "\n",
        "model.add(Conv2D(64, (5,5), activation='relu', strides=(1,1), padding='valid'))\n",
        "model.add(MaxPooling2D(2,2))\n",
        "\n",
        "model.add(Conv2D(128, (5,5), activation='relu', strides=(1,1), padding='valid'))\n",
        "model.add(MaxPooling2D(2,2))\n",
        "\n",
        "model.add(Flatten())\n",
        "model.add(Dense(128, activation='relu'))\n",
        "model.add(Dropout(0.1))\n",
        "model.add(Dense(2, activation='softmax'))\n",
        "\n",
        "model.compile(\n",
        "    loss='categorical_crossentropy',\n",
        "    optimizer=RMSprop(learning_rate=0.001, rho=0.9),\n",
        "    metrics=['accuracy']\n",
        ")\n",
        "\n",
        "history = model.fit(\n",
        "    train_generator,\n",
        "    steps_per_epoch=300,\n",
        "    epochs=20,\n",
        "    validation_data=val_generator,\n",
        "    validation_steps=10,\n",
        "    verbose=1,\n",
        "    callbacks=[callbacks]\n",
        ")"
      ],
      "execution_count": 22,
      "outputs": [
        {
          "output_type": "stream",
          "text": [
            "Epoch 1/20\n",
            "300/300 [==============================] - 40s 132ms/step - loss: 0.5413 - accuracy: 0.7433 - val_loss: 1.3358 - val_accuracy: 0.4750\n",
            "Epoch 2/20\n",
            "300/300 [==============================] - ETA: 0s - loss: 0.1689 - accuracy: 0.9708\n",
            "Reached 97.8% accuracy so cancelling training!\n",
            "300/300 [==============================] - 40s 133ms/step - loss: 0.1689 - accuracy: 0.9708 - val_loss: 0.0070 - val_accuracy: 1.0000\n"
          ],
          "name": "stdout"
        }
      ]
    },
    {
      "cell_type": "code",
      "metadata": {
        "id": "02HW1qcdg9M_",
        "colab_type": "code",
        "colab": {
          "base_uri": "https://localhost:8080/",
          "height": 667
        },
        "outputId": "24e2d536-01e0-4ac3-9bb1-6d54819020b0"
      },
      "source": [
        "\n",
        "loss, acc = model.evaluate(val_generator)\n",
        "print(\"validasi akurasi: {:5.2f}\".format(100 * acc))\n",
        "print(\"validasi error: {:5.2f}\".format(100 * loss))\n",
        "\n",
        "t_loss, t_acc = model.evaluate(train_generator)\n",
        "print(\"trainig akurasi: {:5.2f}\".format(100 * t_acc))\n",
        "print(\"training error: {:5.2f}\".format(100 * t_loss))\n",
        "\n",
        "\n",
        "acc = history.history['accuracy']\n",
        "val_acc = history.history['val_accuracy']\n",
        "loss = history.history['loss']\n",
        "val_loss = history.history['val_loss']\n",
        "\n",
        "epochs = range(len(acc))\n",
        "\n",
        "plt.plot(epochs, acc, 'r', label='Training accuracy')\n",
        "plt.plot(epochs, val_acc, 'b', label='Validation accuracy')\n",
        "plt.title('Training and validation accuracy')\n",
        "plt.legend(loc=0)\n",
        "plt.figure()\n",
        "\n",
        "plt.plot(epochs, loss, 'r', label='Training loss')\n",
        "plt.plot(epochs, val_loss, 'b', label='Validation loss')\n",
        "plt.title('Training and validation loss')\n",
        "plt.legend(loc=0)\n",
        "plt.figure()\n",
        "\n",
        "plt.show()"
      ],
      "execution_count": 23,
      "outputs": [
        {
          "output_type": "stream",
          "text": [
            "1000/1000 [==============================] - 55s 55ms/step - loss: 0.0020 - accuracy: 0.9995\n",
            "validasi akurasi: 99.95\n",
            "validasi error:  0.20\n",
            "4000/4000 [==============================] - 214s 54ms/step - loss: 0.0056 - accuracy: 0.9984\n",
            "trainig akurasi: 99.84\n",
            "training error:  0.56\n"
          ],
          "name": "stdout"
        },
        {
          "output_type": "display_data",
          "data": {
            "image/png": "[encoded data removed]",
            "text/plain": [
              "<Figure size 432x288 with 1 Axes>"
            ]
          },
          "metadata": {
            "tags": [],
            "needs_background": "light"
          }
        },
        {
          "output_type": "display_data",
          "data": {
            "image/png": "[encoded data removed]",
            "text/plain": [
              "<Figure size 432x288 with 1 Axes>"
            ]
          },
          "metadata": {
            "tags": [],
            "needs_background": "light"
          }
        },
        {
          "output_type": "display_data",
          "data": {
            "text/plain": [
              "<Figure size 432x288 with 0 Axes>"
            ]
          },
          "metadata": {
            "tags": []
          }
        }
      ]
    },
    {
      "cell_type": "code",
      "metadata": {
        "id": "Wq-jdF7iMMAD",
        "colab_type": "code",
        "colab": {
          "base_uri": "https://localhost:8080/",
          "height": 159
        },
        "outputId": "a12ab3be-406c-4604-f0ca-2ee1bbc40382"
      },
      "source": [
        "converter = tf.lite.TFLiteConverter.from_keras_model(model)\n",
        "tflite_model = converter.convert()"
      ],
      "execution_count": 24,
      "outputs": [
        {
          "output_type": "stream",
          "text": [
            "WARNING:tensorflow:From /usr/local/lib/python3.6/dist-packages/tensorflow/python/training/tracking/tracking.py:111: Model.state_updates (from tensorflow.python.keras.engine.training) is deprecated and will be removed in a future version.\n",
            "Instructions for updating:\n",
            "This property should not be used in TensorFlow 2.0, as updates are applied automatically.\n",
            "WARNING:tensorflow:From /usr/local/lib/python3.6/dist-packages/tensorflow/python/training/tracking/tracking.py:111: Layer.updates (from tensorflow.python.keras.engine.base_layer) is deprecated and will be removed in a future version.\n",
            "Instructions for updating:\n",
            "This property should not be used in TensorFlow 2.0, as updates are applied automatically.\n",
            "INFO:tensorflow:Assets written to: /tmp/tmp14lanxfi/assets\n"
          ],
          "name": "stdout"
        }
      ]
    },
    {
      "cell_type": "code",
      "metadata": {
        "id": "5HTQKbMTMUf2",
        "colab_type": "code",
        "colab": {}
      },
      "source": [
        "with tf.io.gfile.GFile('model.tflite', 'wb') as f:\n",
        "  f.write(tflite_model)"
      ],
      "execution_count": 25,
      "outputs": []
    }
  ]
}